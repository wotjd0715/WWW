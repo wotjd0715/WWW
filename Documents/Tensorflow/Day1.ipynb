{
 "cells": [
  {
   "cell_type": "code",
   "execution_count": 2,
   "metadata": {},
   "outputs": [],
   "source": [
    "import tensorflow as tf"
   ]
  },
  {
   "cell_type": "code",
   "execution_count": 13,
   "metadata": {},
   "outputs": [
    {
     "name": "stdout",
     "output_type": "stream",
     "text": [
      "Tensor(\"Const_5:0\", shape=(), dtype=string)\n"
     ]
    }
   ],
   "source": [
    "hello = tf.constant(\"hello, tensorflow\")\n",
    "print(hello)"
   ]
  },
  {
   "cell_type": "code",
   "execution_count": 8,
   "metadata": {},
   "outputs": [
    {
     "name": "stdout",
     "output_type": "stream",
     "text": [
      "Tensor(\"Add:0\", shape=(), dtype=int32)\n"
     ]
    }
   ],
   "source": [
    "a = tf.constant(10)\n",
    "b = tf.constant(5)\n",
    "c = tf.add(a,b)\n",
    "print(c)"
   ]
  },
  {
   "cell_type": "code",
   "execution_count": 14,
   "metadata": {},
   "outputs": [
    {
     "name": "stdout",
     "output_type": "stream",
     "text": [
      "b'hello, tensorflow'\n",
      "[10, 5, 15]\n"
     ]
    }
   ],
   "source": [
    "sess = tf.Session()\n",
    "\n",
    "print(sess.run(hello))\n",
    "print(sess.run([a,b,c]))\n",
    "\n",
    "sess.close()"
   ]
  },
  {
   "cell_type": "code",
   "execution_count": 15,
   "metadata": {},
   "outputs": [
    {
     "name": "stdout",
     "output_type": "stream",
     "text": [
      "Tensor(\"Placeholder:0\", shape=(?, 3), dtype=float32)\n"
     ]
    }
   ],
   "source": [
    "X = tf.placeholder(tf.float32,[None,3])\n",
    "print(X)"
   ]
  },
  {
   "cell_type": "code",
   "execution_count": 16,
   "metadata": {},
   "outputs": [],
   "source": [
    "x_data = [[1,2,3],[4,5,6]]"
   ]
  },
  {
   "cell_type": "code",
   "execution_count": 30,
   "metadata": {},
   "outputs": [],
   "source": [
    "W = tf.Variable(tf.random_normal([3,2]))\n",
    "b = tf.Variable(tf.random_normal([2,1]))"
   ]
  },
  {
   "cell_type": "code",
   "execution_count": 19,
   "metadata": {},
   "outputs": [],
   "source": [
    "L = tf.Variable([[0.1,0.2],[0.3,0.4],[0.5,0.6]])"
   ]
  },
  {
   "cell_type": "code",
   "execution_count": 33,
   "metadata": {},
   "outputs": [],
   "source": [
    "expt =tf.matmul(X,W)+ b"
   ]
  },
  {
   "cell_type": "code",
   "execution_count": 31,
   "metadata": {},
   "outputs": [],
   "source": [
    "sess = tf.Session()\n",
    "sess.run(tf.global_variables_initializer())"
   ]
  },
  {
   "cell_type": "code",
   "execution_count": 34,
   "metadata": {},
   "outputs": [
    {
     "name": "stdout",
     "output_type": "stream",
     "text": [
      "====== x_data========\n",
      "[[1, 2, 3], [4, 5, 6]]\n",
      "====== W =====\n",
      "[[-0.09200969 -0.26065356]\n",
      " [ 1.1539092  -1.1394984 ]\n",
      " [ 0.11305733  0.03335192]]\n",
      "====== b =====\n",
      "[[1.8920934]\n",
      " [1.960026 ]]\n",
      "====== L =====\n",
      "[[0.1 0.2]\n",
      " [0.3 0.4]\n",
      " [0.5 0.6]]\n"
     ]
    }
   ],
   "source": [
    "print(\"====== x_data========\")\n",
    "print(x_data)\n",
    "print(\"====== W =====\")\n",
    "print(sess.run(W))\n",
    "print(\"====== b =====\")\n",
    "print(sess.run(b))\n",
    "print(\"====== L =====\")\n",
    "print(sess.run(L))\n",
    "sess.close()"
   ]
  },
  {
   "cell_type": "code",
   "execution_count": 97,
   "metadata": {},
   "outputs": [],
   "source": [
    "x_data = [1,2,3]\n",
    "y_data = [1,5,10]"
   ]
  },
  {
   "cell_type": "code",
   "execution_count": 107,
   "metadata": {},
   "outputs": [],
   "source": [
    "X = tf.placeholder(tf.float32, name=\"X\")\n",
    "Y = tf.placeholder(tf.float32, name=\"Y\")"
   ]
  },
  {
   "cell_type": "code",
   "execution_count": 108,
   "metadata": {},
   "outputs": [],
   "source": [
    "hypo = W1*X*X +W2*X + b"
   ]
  },
  {
   "cell_type": "code",
   "execution_count": 109,
   "metadata": {},
   "outputs": [],
   "source": [
    "cost = tf.reduce_mean(tf.square(hypo - Y))"
   ]
  },
  {
   "cell_type": "code",
   "execution_count": 110,
   "metadata": {},
   "outputs": [],
   "source": [
    "optimizer = tf.train.GradientDescentOptimizer(learning_rate = 0.1)\n",
    "train_op = optimizer.minimize(cost)"
   ]
  },
  {
   "cell_type": "code",
   "execution_count": 111,
   "metadata": {},
   "outputs": [],
   "source": [
    "sess = tf.Session()\n",
    "sess.run(tf.global_variables_initializer())"
   ]
  },
  {
   "cell_type": "code",
   "execution_count": 105,
   "metadata": {},
   "outputs": [
    {
     "name": "stdout",
     "output_type": "stream",
     "text": [
      "0 nan [nan] [nan] [nan]\n",
      "1 nan [nan] [nan] [nan]\n",
      "2 nan [nan] [nan] [nan]\n",
      "3 nan [nan] [nan] [nan]\n",
      "4 nan [nan] [nan] [nan]\n",
      "5 nan [nan] [nan] [nan]\n",
      "6 nan [nan] [nan] [nan]\n",
      "7 nan [nan] [nan] [nan]\n",
      "8 nan [nan] [nan] [nan]\n",
      "9 nan [nan] [nan] [nan]\n",
      "10 nan [nan] [nan] [nan]\n",
      "11 nan [nan] [nan] [nan]\n",
      "12 nan [nan] [nan] [nan]\n",
      "13 nan [nan] [nan] [nan]\n",
      "14 nan [nan] [nan] [nan]\n",
      "15 nan [nan] [nan] [nan]\n",
      "16 nan [nan] [nan] [nan]\n",
      "17 nan [nan] [nan] [nan]\n",
      "18 nan [nan] [nan] [nan]\n",
      "19 nan [nan] [nan] [nan]\n",
      "20 nan [nan] [nan] [nan]\n",
      "21 nan [nan] [nan] [nan]\n",
      "22 nan [nan] [nan] [nan]\n",
      "23 nan [nan] [nan] [nan]\n",
      "24 nan [nan] [nan] [nan]\n",
      "25 nan [nan] [nan] [nan]\n",
      "26 nan [nan] [nan] [nan]\n",
      "27 nan [nan] [nan] [nan]\n",
      "28 nan [nan] [nan] [nan]\n",
      "29 nan [nan] [nan] [nan]\n",
      "30 nan [nan] [nan] [nan]\n",
      "31 nan [nan] [nan] [nan]\n",
      "32 nan [nan] [nan] [nan]\n",
      "33 nan [nan] [nan] [nan]\n",
      "34 nan [nan] [nan] [nan]\n",
      "35 nan [nan] [nan] [nan]\n",
      "36 nan [nan] [nan] [nan]\n",
      "37 nan [nan] [nan] [nan]\n",
      "38 nan [nan] [nan] [nan]\n",
      "39 nan [nan] [nan] [nan]\n",
      "40 nan [nan] [nan] [nan]\n",
      "41 nan [nan] [nan] [nan]\n",
      "42 nan [nan] [nan] [nan]\n",
      "43 nan [nan] [nan] [nan]\n",
      "44 nan [nan] [nan] [nan]\n",
      "45 nan [nan] [nan] [nan]\n",
      "46 nan [nan] [nan] [nan]\n",
      "47 nan [nan] [nan] [nan]\n",
      "48 nan [nan] [nan] [nan]\n",
      "49 nan [nan] [nan] [nan]\n",
      "50 nan [nan] [nan] [nan]\n",
      "51 nan [nan] [nan] [nan]\n",
      "52 nan [nan] [nan] [nan]\n",
      "53 nan [nan] [nan] [nan]\n",
      "54 nan [nan] [nan] [nan]\n",
      "55 nan [nan] [nan] [nan]\n",
      "56 nan [nan] [nan] [nan]\n",
      "57 nan [nan] [nan] [nan]\n",
      "58 nan [nan] [nan] [nan]\n",
      "59 nan [nan] [nan] [nan]\n",
      "60 nan [nan] [nan] [nan]\n",
      "61 nan [nan] [nan] [nan]\n",
      "62 nan [nan] [nan] [nan]\n",
      "63 nan [nan] [nan] [nan]\n",
      "64 nan [nan] [nan] [nan]\n",
      "65 nan [nan] [nan] [nan]\n",
      "66 nan [nan] [nan] [nan]\n",
      "67 nan [nan] [nan] [nan]\n",
      "68 nan [nan] [nan] [nan]\n",
      "69 nan [nan] [nan] [nan]\n",
      "70 nan [nan] [nan] [nan]\n",
      "71 nan [nan] [nan] [nan]\n",
      "72 nan [nan] [nan] [nan]\n",
      "73 nan [nan] [nan] [nan]\n",
      "74 nan [nan] [nan] [nan]\n",
      "75 nan [nan] [nan] [nan]\n",
      "76 nan [nan] [nan] [nan]\n",
      "77 nan [nan] [nan] [nan]\n",
      "78 nan [nan] [nan] [nan]\n",
      "79 nan [nan] [nan] [nan]\n",
      "80 nan [nan] [nan] [nan]\n",
      "81 nan [nan] [nan] [nan]\n",
      "82 nan [nan] [nan] [nan]\n",
      "83 nan [nan] [nan] [nan]\n",
      "84 nan [nan] [nan] [nan]\n",
      "85 nan [nan] [nan] [nan]\n",
      "86 nan [nan] [nan] [nan]\n",
      "87 nan [nan] [nan] [nan]\n",
      "88 nan [nan] [nan] [nan]\n",
      "89 nan [nan] [nan] [nan]\n",
      "90 nan [nan] [nan] [nan]\n",
      "91 nan [nan] [nan] [nan]\n",
      "92 nan [nan] [nan] [nan]\n",
      "93 nan [nan] [nan] [nan]\n",
      "94 nan [nan] [nan] [nan]\n",
      "95 nan [nan] [nan] [nan]\n",
      "96 nan [nan] [nan] [nan]\n",
      "97 nan [nan] [nan] [nan]\n",
      "98 nan [nan] [nan] [nan]\n",
      "99 nan [nan] [nan] [nan]\n"
     ]
    }
   ],
   "source": [
    "    for step in range(100):\n",
    "        _, cost_val = sess.run([train_op, cost], feed_dict={X: x_data, Y: y_data})\n",
    "        print(step,cost_val,sess.run(W1),sess.run(W2),sess.run(b))"
   ]
  },
  {
   "cell_type": "code",
   "execution_count": 95,
   "metadata": {},
   "outputs": [
    {
     "name": "stdout",
     "output_type": "stream",
     "text": [
      "X: 5, Y [nan]\n",
      "X: 2.5, Y [nan]\n"
     ]
    }
   ],
   "source": [
    "print(\"X: 5, Y\",sess.run(hypo, feed_dict={X: 5}))\n",
    "print(\"X: 2.5, Y\",sess.run(hypo, feed_dict={X: -1}))      "
   ]
  },
  {
   "cell_type": "code",
   "execution_count": null,
   "metadata": {},
   "outputs": [],
   "source": []
  },
  {
   "cell_type": "code",
   "execution_count": 113,
   "metadata": {},
   "outputs": [
    {
     "ename": "TypeError",
     "evalue": "random_normal() missing 1 required positional argument: 'shape'",
     "output_type": "error",
     "traceback": [
      "\u001b[1;31m---------------------------------------------------------------------------\u001b[0m",
      "\u001b[1;31mTypeError\u001b[0m                                 Traceback (most recent call last)",
      "\u001b[1;32m<ipython-input-113-eed9870c839a>\u001b[0m in \u001b[0;36m<module>\u001b[1;34m\u001b[0m\n\u001b[1;32m----> 1\u001b[1;33m \u001b[0mW1\u001b[0m \u001b[1;33m=\u001b[0m \u001b[0mtf\u001b[0m\u001b[1;33m.\u001b[0m\u001b[0mVariable\u001b[0m\u001b[1;33m(\u001b[0m\u001b[0mtf\u001b[0m\u001b[1;33m.\u001b[0m\u001b[0mrandom_normal\u001b[0m\u001b[1;33m(\u001b[0m\u001b[1;33m)\u001b[0m\u001b[1;33m)\u001b[0m\u001b[1;33m\u001b[0m\u001b[1;33m\u001b[0m\u001b[0m\n\u001b[0m\u001b[0;32m      2\u001b[0m \u001b[0mW2\u001b[0m \u001b[1;33m=\u001b[0m \u001b[0mtf\u001b[0m\u001b[1;33m.\u001b[0m\u001b[0mVariable\u001b[0m\u001b[1;33m(\u001b[0m\u001b[0mtf\u001b[0m\u001b[1;33m.\u001b[0m\u001b[0mrandom_normal\u001b[0m\u001b[1;33m(\u001b[0m\u001b[1;33m)\u001b[0m\u001b[1;33m)\u001b[0m\u001b[1;33m\u001b[0m\u001b[1;33m\u001b[0m\u001b[0m\n\u001b[0;32m      3\u001b[0m \u001b[0mb\u001b[0m \u001b[1;33m=\u001b[0m \u001b[0mtf\u001b[0m\u001b[1;33m.\u001b[0m\u001b[0mVariable\u001b[0m\u001b[1;33m(\u001b[0m\u001b[0mtf\u001b[0m\u001b[1;33m.\u001b[0m\u001b[0mrandom_normal\u001b[0m\u001b[1;33m(\u001b[0m\u001b[1;33m)\u001b[0m\u001b[1;33m)\u001b[0m\u001b[1;33m\u001b[0m\u001b[1;33m\u001b[0m\u001b[0m\n\u001b[0;32m      4\u001b[0m \u001b[0mprint\u001b[0m\u001b[1;33m(\u001b[0m\u001b[0msess\u001b[0m\u001b[1;33m.\u001b[0m\u001b[0mrun\u001b[0m\u001b[1;33m(\u001b[0m\u001b[0mW1\u001b[0m\u001b[1;33m)\u001b[0m\u001b[1;33m,\u001b[0m\u001b[0msess\u001b[0m\u001b[1;33m.\u001b[0m\u001b[0mrun\u001b[0m\u001b[1;33m(\u001b[0m\u001b[0mW2\u001b[0m\u001b[1;33m)\u001b[0m\u001b[1;33m,\u001b[0m\u001b[0msess\u001b[0m\u001b[1;33m.\u001b[0m\u001b[0mrun\u001b[0m\u001b[1;33m(\u001b[0m\u001b[0mb\u001b[0m\u001b[1;33m)\u001b[0m\u001b[1;33m)\u001b[0m\u001b[1;33m\u001b[0m\u001b[1;33m\u001b[0m\u001b[0m\n",
      "\u001b[1;31mTypeError\u001b[0m: random_normal() missing 1 required positional argument: 'shape'"
     ]
    }
   ],
   "source": []
  }
 ],
 "metadata": {
  "kernelspec": {
   "display_name": "Python 3",
   "language": "python",
   "name": "python3"
  },
  "language_info": {
   "codemirror_mode": {
    "name": "ipython",
    "version": 3
   },
   "file_extension": ".py",
   "mimetype": "text/x-python",
   "name": "python",
   "nbconvert_exporter": "python",
   "pygments_lexer": "ipython3",
   "version": "3.7.6"
  }
 },
 "nbformat": 4,
 "nbformat_minor": 2
}
